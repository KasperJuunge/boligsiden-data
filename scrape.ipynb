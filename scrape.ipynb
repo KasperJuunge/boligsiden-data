{
 "cells": [
  {
   "cell_type": "code",
   "execution_count": null,
   "metadata": {},
   "outputs": [],
   "source": [
    "import requests\n",
    "\n",
    "url_base = 'https://www.boligsiden.dk/resultat/45b329d437d14960aeeed2e6398f83ce?s=3&sd=false&d=1&p={}&i=60'\n",
    "\n",
    "\n",
    "pages = []\n",
    "\n",
    "for i in range(500):\n",
    "    if i%10 == 0:\n",
    "        print(i)\n",
    "    r = requests.get(url_base.format(i+1))\n",
    "    pages.append(r.text)\n",
    "    "
   ]
  }
 ],
 "metadata": {
  "kernelspec": {
   "display_name": "Python 3",
   "language": "python",
   "name": "python3"
  },
  "language_info": {
   "codemirror_mode": {
    "name": "ipython",
    "version": 3
   },
   "file_extension": ".py",
   "mimetype": "text/x-python",
   "name": "python",
   "nbconvert_exporter": "python",
   "pygments_lexer": "ipython3",
   "version": "3.8.2"
  }
 },
 "nbformat": 4,
 "nbformat_minor": 4
}

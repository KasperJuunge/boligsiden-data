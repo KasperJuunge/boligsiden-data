{
 "cells": [
  {
   "cell_type": "code",
   "execution_count": 1,
   "metadata": {
    "cell_style": "center",
    "scrolled": false
   },
   "outputs": [],
   "source": [
    "import os\n",
    "import pandas as pd\n",
    "import datetime\n",
    "import numpy as np\n",
    "from datetime import date\n",
    "import config\n",
    "from scraper import BoligScraper\n",
    "from integrator import Integrator\n",
    "from preprocessor import Preprocessor\n",
    "pd.options.display.max_columns = 500 \n",
    "\n"
   ]
  },
  {
   "cell_type": "markdown",
   "metadata": {},
   "source": [
    "# Analyze Scraped Data"
   ]
  },
  {
   "cell_type": "code",
   "execution_count": 5,
   "metadata": {
    "scrolled": true
   },
   "outputs": [],
   "source": [
    "df_off = pd.read_pickle('./data/database/db_off_market.pkl')\n",
    "df_new = pd.read_pickle('./data/database/db_new_on_market.pkl')\n",
    "df_on = pd.read_pickle('./data/database/db_on_market.pkl')\n",
    "preprocessor = Preprocessor()\n",
    "df_off = preprocessor.process(df_off)\n",
    "df_new = preprocessor.process(df_new)\n",
    "df_on = preprocessor.process(df_on)"
   ]
  },
  {
   "cell_type": "markdown",
   "metadata": {},
   "source": [
    "# Iterate scrape jobs"
   ]
  },
  {
   "cell_type": "code",
   "execution_count": 3,
   "metadata": {},
   "outputs": [
    {
     "name": "stdout",
     "output_type": "stream",
     "text": [
      "not penis\n",
      "not penis\n",
      "not penis\n",
      "not penis\n",
      "not penis\n",
      "not penis\n"
     ]
    }
   ],
   "source": [
    "diir = os.listdir('./data/scraping_jobs/')\n",
    "for file in diir:\n",
    "    df = pd.read_pickle('./data/scraping_jobs/' + file)\n",
    "    #df = df.rename(columns={'scrapeDate': 'dateScraped'})\n",
    "    #df.to_pickle('./data/scraping_jobs/' + file)\n",
    "    if df.downPayment.dtype == float: print('penis')\n",
    "    else: print('not penis')"
   ]
  },
  {
   "cell_type": "code",
   "execution_count": null,
   "metadata": {},
   "outputs": [],
   "source": [
    "\n"
   ]
  }
 ],
 "metadata": {
  "kernelspec": {
   "display_name": "Python 3",
   "language": "python",
   "name": "python3"
  },
  "language_info": {
   "codemirror_mode": {
    "name": "ipython",
    "version": 3
   },
   "file_extension": ".py",
   "mimetype": "text/x-python",
   "name": "python",
   "nbconvert_exporter": "python",
   "pygments_lexer": "ipython3",
   "version": "3.8.2"
  },
  "toc": {
   "base_numbering": 1,
   "nav_menu": {},
   "number_sections": true,
   "sideBar": true,
   "skip_h1_title": false,
   "title_cell": "Table of Contents",
   "title_sidebar": "Contents",
   "toc_cell": false,
   "toc_position": {},
   "toc_section_display": true,
   "toc_window_display": false
  }
 },
 "nbformat": 4,
 "nbformat_minor": 4
}

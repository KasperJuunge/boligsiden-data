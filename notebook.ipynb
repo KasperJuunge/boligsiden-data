{
 "cells": [
  {
   "cell_type": "code",
   "execution_count": 2,
   "metadata": {
    "cell_style": "center"
   },
   "outputs": [],
   "source": [
    "import pandas as pd\n",
    "from datetime import datetime\n",
    "import numpy as np\n",
    "pd.options.display.max_columns = 500 "
   ]
  },
  {
   "cell_type": "code",
   "execution_count": 4,
   "metadata": {},
   "outputs": [],
   "source": [
    "df_on_market = pd.read_pickle('./data/boligsiden_2020-08-01.pkl')\n",
    "df_on_market.to_pickle('./data/on-market.pkl')"
   ]
  },
  {
   "cell_type": "code",
   "execution_count": null,
   "metadata": {},
   "outputs": [],
   "source": [
    "def return_off_market_estates(df_yesterday, df_today):\n",
    "    # df_db: DataFrame with data from latest scrape\n",
    "    \n",
    "    # Create full address col, to compare dfs\n",
    "    df_db['fullAddress'] = df_db['address'] + ' ' + df_db['city']\n",
    "    df_new['fullAddress'] = df_new['address'] + ' ' + df_new['city']\n",
    "    \n",
    "    # Identify off market estates\n",
    "    mask = ~df_db.fullAddress.isin(df_new.fullAddress)\n",
    "    df_off_market = df_db[mask].copy()\n",
    "    \n",
    "    # Add offMarketDate column\n",
    "    df_off_market['offMarketDate'] = datetime.date.today().strftime('%d-%m-%Y')\n",
    "    \n",
    "    # Add saleConfirmed\n",
    "    df\n",
    "    \n",
    "    # Drop fullAddress column\n",
    "    df_off_market = df_off_market.drop('fullAddress', axis=1)\n",
    "    \n",
    "    return df_off_market\n"
   ]
  }
 ],
 "metadata": {
  "kernelspec": {
   "display_name": "Python 3",
   "language": "python",
   "name": "python3"
  },
  "language_info": {
   "codemirror_mode": {
    "name": "ipython",
    "version": 3
   },
   "file_extension": ".py",
   "mimetype": "text/x-python",
   "name": "python",
   "nbconvert_exporter": "python",
   "pygments_lexer": "ipython3",
   "version": "3.8.2"
  },
  "toc": {
   "base_numbering": 1,
   "nav_menu": {},
   "number_sections": true,
   "sideBar": true,
   "skip_h1_title": false,
   "title_cell": "Table of Contents",
   "title_sidebar": "Contents",
   "toc_cell": false,
   "toc_position": {},
   "toc_section_display": true,
   "toc_window_display": false
  }
 },
 "nbformat": 4,
 "nbformat_minor": 4
}

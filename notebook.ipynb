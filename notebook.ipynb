{
 "cells": [
  {
   "cell_type": "code",
   "execution_count": 4,
   "metadata": {
    "cell_style": "center",
    "scrolled": false
   },
   "outputs": [],
   "source": [
    "import pandas as pd\n",
    "import datetime\n",
    "import numpy as np\n",
    "from datetime import date\n",
    "pd.options.display.max_columns = 500 \n",
    "\n",
    "#integrator = Integrator()\n",
    "#df_on_market, df_off_market = integrator.integrate()\n"
   ]
  },
  {
   "cell_type": "markdown",
   "metadata": {},
   "source": [
    "# Off-market Analysis"
   ]
  },
  {
   "cell_type": "code",
   "execution_count": 30,
   "metadata": {},
   "outputs": [],
   "source": [
    "df_off = pd.read_pickle('./data/off-market.pkl')\n",
    "df_on = pd.read_pickle('./data/off-market.pkl')"
   ]
  },
  {
   "cell_type": "code",
   "execution_count": 19,
   "metadata": {
    "scrolled": false
   },
   "outputs": [],
   "source": [
    "today = date.today()\n",
    "df_off_today = df_off[df_off['offMarketDate'] == '2020-08-03'].copy()"
   ]
  },
  {
   "cell_type": "code",
   "execution_count": 32,
   "metadata": {},
   "outputs": [
    {
     "data": {
      "text/plain": [
       "id                                 object\n",
       "itemTypeName                       object\n",
       "itemType                            int64\n",
       "propertyLink                       object\n",
       "isFavorite                           bool\n",
       "rating                             object\n",
       "priceDevelopment                   object\n",
       "hasOpenHouse                         bool\n",
       "nextOpenHouse                      object\n",
       "nextOpenHouseSignup                  bool\n",
       "imageLink300X200                   object\n",
       "energyMark                         object\n",
       "energyMarkLink                     object\n",
       "address                            object\n",
       "postal                             object\n",
       "city                               object\n",
       "paymentCash                        object\n",
       "downPayment                        object\n",
       "paymentExpenses                    object\n",
       "paymentGross                       object\n",
       "paymentNet                         object\n",
       "areaResidential                    object\n",
       "numberOfRooms                      object\n",
       "areaParcel                         object\n",
       "salesPeriod                        object\n",
       "redirectLink                       object\n",
       "openHouseRedirectLink              object\n",
       "agentsLogoLink                     object\n",
       "financing                          object\n",
       "areaPaymentCash                    object\n",
       "areaWeighted                       object\n",
       "uniqueNumber                        int64\n",
       "agentChainName                     object\n",
       "isArchive                            bool\n",
       "dateRemoved                        object\n",
       "placeName                          object\n",
       "canShowSalesPeriodTotal              bool\n",
       "salesPeriodTotal                   object\n",
       "dateAnnounced              datetime64[ns]\n",
       "calculateLoanAgentChain            object\n",
       "label                              object\n",
       "scrapeDate                         object\n",
       "offMarketDate              datetime64[ns]\n",
       "saleConfirmed                        bool\n",
       "liggetid                          float64\n",
       "dtype: object"
      ]
     },
     "execution_count": 32,
     "metadata": {},
     "output_type": "execute_result"
    }
   ],
   "source": [
    "df_off.dtypes#.groupby('city')['paymentCash'].sum()"
   ]
  }
 ],
 "metadata": {
  "kernelspec": {
   "display_name": "Python 3",
   "language": "python",
   "name": "python3"
  },
  "language_info": {
   "codemirror_mode": {
    "name": "ipython",
    "version": 3
   },
   "file_extension": ".py",
   "mimetype": "text/x-python",
   "name": "python",
   "nbconvert_exporter": "python",
   "pygments_lexer": "ipython3",
   "version": "3.8.2"
  },
  "toc": {
   "base_numbering": 1,
   "nav_menu": {},
   "number_sections": true,
   "sideBar": true,
   "skip_h1_title": false,
   "title_cell": "Table of Contents",
   "title_sidebar": "Contents",
   "toc_cell": false,
   "toc_position": {},
   "toc_section_display": true,
   "toc_window_display": false
  }
 },
 "nbformat": 4,
 "nbformat_minor": 4
}
